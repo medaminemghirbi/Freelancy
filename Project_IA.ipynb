{
  "nbformat": 4,
  "nbformat_minor": 0,
  "metadata": {
    "colab": {
      "provenance": [],
      "name": "Project IA.ipynb",
      "authorship_tag": "ABX9TyNgnKwB/gTuFM9tHSiJDBMI",
      "include_colab_link": true
    },
    "kernelspec": {
      "name": "python3",
      "display_name": "Python 3"
    },
    "language_info": {
      "name": "python"
    }
  },
  "cells": [
    {
      "cell_type": "markdown",
      "metadata": {
        "id": "view-in-github",
        "colab_type": "text"
      },
      "source": [
        "<a href=\"https://colab.research.google.com/github/medaminemghirbi/Freelancy/blob/main/Project_IA.ipynb\" target=\"_parent\"><img src=\"https://colab.research.google.com/assets/colab-badge.svg\" alt=\"Open In Colab\"/></a>"
      ]
    },
    {
      "cell_type": "markdown",
      "source": [
        "**1. Loading Data from drive**"
      ],
      "metadata": {
        "id": "UKfWWqY7Ivo6"
      }
    },
    {
      "cell_type": "code",
      "execution_count": 9,
      "metadata": {
        "id": "puXT-JcpT1yt"
      },
      "outputs": [],
      "source": [
        "import pandas as pd\n",
        "# Load the dataset\n",
        "df = pd.read_csv(\"/content/project_IA/MyDrive/diabetes.csv\")"
      ]
    },
    {
      "cell_type": "markdown",
      "source": [
        "**2. Explore the Dataset**"
      ],
      "metadata": {
        "id": "dQacnONbJGz6"
      }
    },
    {
      "cell_type": "code",
      "source": [
        "# Explore the dataset\n",
        "print(\"Dataset shape:\", df.shape)\n",
        "print(\"\\nFirst few rows of the dataset:\")\n",
        "print(df.head())"
      ],
      "metadata": {
        "id": "aNUjKXxXJE8d"
      },
      "execution_count": null,
      "outputs": []
    },
    {
      "cell_type": "markdown",
      "source": [
        "**3. Summary Statistics**"
      ],
      "metadata": {
        "id": "UOA_pmybJafI"
      }
    },
    {
      "cell_type": "code",
      "source": [
        "# Summary statistics\n",
        "print(\"\\nSummary statistics:\")\n",
        "print(df.describe())"
      ],
      "metadata": {
        "id": "XQzlhRf8JgQF"
      },
      "execution_count": null,
      "outputs": []
    },
    {
      "cell_type": "markdown",
      "source": [
        "**4. Check for Missing Values**"
      ],
      "metadata": {
        "id": "IAzVufWlJv0R"
      }
    },
    {
      "cell_type": "code",
      "source": [
        "# Check for missing values\n",
        "print(\"\\nMissing values:\")\n",
        "print(df.isnull().sum())"
      ],
      "metadata": {
        "id": "viOOcsRLJx8W"
      },
      "execution_count": null,
      "outputs": []
    },
    {
      "cell_type": "markdown",
      "source": [
        "**5. Data Visualization**\n",
        "\n",
        "1.  Data visualization"
      ],
      "metadata": {
        "id": "uMVHSwQmKCgW"
      }
    },
    {
      "cell_type": "code",
      "source": [
        "import matplotlib.pyplot as plt\n",
        "import seaborn as sns\n",
        "\n",
        "# Data visualization\n",
        "plt.figure(figsize=(10, 6))\n",
        "sns.countplot(x=\"Outcome\", data=df)\n",
        "plt.title(\"Distribution of Outcome (0: No Diabetes, 1: Diabetes)\")\n",
        "plt.xlabel(\"Outcome\")\n",
        "plt.ylabel(\"Count\")\n",
        "plt.show()"
      ],
      "metadata": {
        "id": "yG9eakbOKKlu"
      },
      "execution_count": null,
      "outputs": []
    },
    {
      "cell_type": "markdown",
      "source": [
        "\n",
        "2. Correlation heatmap\n",
        "\n"
      ],
      "metadata": {
        "id": "S5MOCu4YKr06"
      }
    },
    {
      "cell_type": "code",
      "source": [
        "import matplotlib.pyplot as plt\n",
        "import seaborn as sns\n",
        "\n",
        "# Correlation heatmap\n",
        "plt.figure(figsize=(10, 6))\n",
        "sns.heatmap(df.corr(), annot=True, cmap=\"coolwarm\")\n",
        "plt.title(\"Correlation Heatmap\")\n",
        "plt.show()"
      ],
      "metadata": {
        "id": "5W30ut-YKZV0"
      },
      "execution_count": null,
      "outputs": []
    },
    {
      "cell_type": "markdown",
      "source": [
        "**6. Split the Data into Features and Target**\n"
      ],
      "metadata": {
        "id": "c-ihlfW2LJFT"
      }
    },
    {
      "cell_type": "code",
      "source": [
        "X = df.drop(columns=[\"Outcome\"])\n",
        "y = df[\"Outcome\"]"
      ],
      "metadata": {
        "id": "927Icno6KzSS"
      },
      "execution_count": 15,
      "outputs": []
    },
    {
      "cell_type": "markdown",
      "source": [
        "**7. Split the Data into Training and Testing Sets**"
      ],
      "metadata": {
        "id": "P80XuyHVLTdb"
      }
    },
    {
      "cell_type": "code",
      "source": [
        "from sklearn.model_selection import train_test_split\n",
        "\n",
        "# Split the data into training and testing sets\n",
        "X_train, X_test, y_train, y_test = train_test_split(X, y, test_size=0.2, random_state=42)"
      ],
      "metadata": {
        "id": "NBCqOTbZLWEa"
      },
      "execution_count": 16,
      "outputs": []
    },
    {
      "cell_type": "markdown",
      "source": [
        "**8. Standardize the Features**"
      ],
      "metadata": {
        "id": "cBJkZ7c1LbS-"
      }
    },
    {
      "cell_type": "code",
      "source": [
        "from sklearn.preprocessing import StandardScaler\n",
        "\n",
        "# Standardize the features\n",
        "scaler = StandardScaler()\n",
        "X_train_scaled = scaler.fit_transform(X_train)\n",
        "X_test_scaled = scaler.transform(X_test)"
      ],
      "metadata": {
        "id": "ELEhT5SzLdDw"
      },
      "execution_count": 17,
      "outputs": []
    },
    {
      "cell_type": "markdown",
      "source": [
        "**9. Train and Evaluate Models**"
      ],
      "metadata": {
        "id": "1B4ltys8Lnnu"
      }
    },
    {
      "cell_type": "code",
      "source": [
        "from sklearn.linear_model import LogisticRegression\n",
        "from sklearn.tree import DecisionTreeClassifier\n",
        "from sklearn.ensemble import RandomForestClassifier\n",
        "from sklearn.metrics import accuracy_score, classification_report, confusion_matrix\n",
        "\n",
        "# Train and evaluate models\n",
        "models = {\n",
        "    \"Logistic Regression\": LogisticRegression(),\n",
        "    \"Decision Tree\": DecisionTreeClassifier(),\n",
        "    \"Random Forest\": RandomForestClassifier()\n",
        "}\n",
        "\n",
        "for name, model in models.items():\n",
        "    model.fit(X_train_scaled, y_train)\n",
        "    y_pred = model.predict(X_test_scaled)\n",
        "    accuracy = accuracy_score(y_test, y_pred)\n",
        "    print(f\"\\n{name} Accuracy: {accuracy:.4f}\")\n",
        "    print(classification_report(y_test, y_pred))\n",
        "    print(confusion_matrix(y_test, y_pred))"
      ],
      "metadata": {
        "id": "XOzks9YdLnP9"
      },
      "execution_count": null,
      "outputs": []
    }
  ]
}