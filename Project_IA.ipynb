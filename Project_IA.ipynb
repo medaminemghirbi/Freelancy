{
  "nbformat": 4,
  "nbformat_minor": 0,
  "metadata": {
    "colab": {
      "provenance": [],
      "name": "Project IA.ipynb",
      "authorship_tag": "ABX9TyPvQrI4FjJ1HbXPrLOgvGzI",
      "include_colab_link": true
    },
    "kernelspec": {
      "name": "python3",
      "display_name": "Python 3"
    },
    "language_info": {
      "name": "python"
    }
  },
  "cells": [
    {
      "cell_type": "markdown",
      "metadata": {
        "id": "view-in-github",
        "colab_type": "text"
      },
      "source": [
        "<a href=\"https://colab.research.google.com/github/medaminemghirbi/Freelancy/blob/main/Project_IA.ipynb\" target=\"_parent\"><img src=\"https://colab.research.google.com/assets/colab-badge.svg\" alt=\"Open In Colab\"/></a>"
      ]
    },
    {
      "cell_type": "markdown",
      "source": [
        "**1. Loading Data from drive**"
      ],
      "metadata": {
        "id": "UKfWWqY7Ivo6"
      }
    },
    {
      "cell_type": "code",
      "execution_count": 3,
      "metadata": {
        "id": "puXT-JcpT1yt"
      },
      "outputs": [],
      "source": [
        "import pandas as pd\n",
        "# Load the dataset\n",
        "df = pd.read_csv(\"/content/project_IA/diabetes.csv\")"
      ]
    },
    {
      "cell_type": "markdown",
      "source": [
        "**2. Display the  Dataset of diabetes**"
      ],
      "metadata": {
        "id": "dQacnONbJGz6"
      }
    },
    {
      "cell_type": "code",
      "source": [
        "# Explore the dataset\n",
        "print(\"Dataset shape:\", df.shape)\n",
        "print(\"\\n First few rows of the dataset:\")\n",
        "print(df.head())"
      ],
      "metadata": {
        "id": "aNUjKXxXJE8d"
      },
      "execution_count": null,
      "outputs": []
    },
    {
      "cell_type": "markdown",
      "source": [
        "**3. statistic of dataset**"
      ],
      "metadata": {
        "id": "UOA_pmybJafI"
      }
    },
    {
      "cell_type": "code",
      "source": [
        "# Summary statistics\n",
        "print(\"\\nSummary statistics:\")\n",
        "print(df.describe())"
      ],
      "metadata": {
        "id": "XQzlhRf8JgQF"
      },
      "execution_count": null,
      "outputs": []
    },
    {
      "cell_type": "markdown",
      "source": [
        " **4. Data Cleaning**\n",
        "\n",
        "1.   Check for Missing/Null Values\n",
        "\n",
        "\n"
      ],
      "metadata": {
        "id": "IAzVufWlJv0R"
      }
    },
    {
      "cell_type": "code",
      "source": [
        "# Check for missing/null values\n",
        "count_miss = df.fillna(df.mean(), inplace=True)\n",
        "count_null = df.isnull().sum()\n",
        "print(\"\\n Null values:\")\n",
        "print(count_null)\n",
        "print(\"\\n Missing  values:\")\n",
        "print(count_miss)"
      ],
      "metadata": {
        "id": "viOOcsRLJx8W"
      },
      "execution_count": null,
      "outputs": []
    },
    {
      "cell_type": "markdown",
      "source": [
        "\n",
        "\n",
        "2.   Remove duplicate value if exist\n",
        "\n",
        "\n"
      ],
      "metadata": {
        "id": "28uYybZ7YHFM"
      }
    },
    {
      "cell_type": "code",
      "source": [
        "df.drop_duplicates(inplace=True)"
      ],
      "metadata": {
        "id": "GPMj0CuSXzot"
      },
      "execution_count": null,
      "outputs": []
    },
    {
      "cell_type": "markdown",
      "source": [
        "**5. Data Visualization**\n",
        "\n",
        "1.  Data visualization"
      ],
      "metadata": {
        "id": "uMVHSwQmKCgW"
      }
    },
    {
      "cell_type": "code",
      "source": [
        "import matplotlib.pyplot as plt\n",
        "import seaborn as sns\n",
        "\n",
        "# Data visualization\n",
        "plt.figure(figsize=(10, 6))\n",
        "sns.countplot(x=\"Outcome\", data=df)\n",
        "plt.title(\"Distribution of Outcome (0: No Diabetes, 1: Diabetes)\")\n",
        "plt.xlabel(\"Outcome\")\n",
        "plt.ylabel(\"Count\")\n",
        "plt.show()"
      ],
      "metadata": {
        "id": "yG9eakbOKKlu",
        "colab": {
          "base_uri": "https://localhost:8080/",
          "height": 564
        },
        "outputId": "bd20e899-25c8-477b-ecfc-a22f84401fc0"
      },
      "execution_count": 7,
      "outputs": [
        {
          "output_type": "display_data",
          "data": {
            "text/plain": [
              "<Figure size 1000x600 with 1 Axes>"
            ],
            "image/png": "[encoded data removed]"
          },
          "metadata": {}
        }
      ]
    },
    {
      "cell_type": "markdown",
      "source": [
        "\n",
        "2. Correlation heatmap\n",
        "\n"
      ],
      "metadata": {
        "id": "S5MOCu4YKr06"
      }
    },
    {
      "cell_type": "code",
      "source": [
        "import matplotlib.pyplot as plt\n",
        "import seaborn as sns\n",
        "\n",
        "# Correlation heatmap\n",
        "plt.figure(figsize=(10, 6))\n",
        "sns.heatmap(df.corr(), annot=True, cmap=\"coolwarm\")\n",
        "plt.title(\"Correlation Heatmap\")\n",
        "plt.show()"
      ],
      "metadata": {
        "id": "5W30ut-YKZV0"
      },
      "execution_count": null,
      "outputs": []
    },
    {
      "cell_type": "markdown",
      "source": [
        "**6. Split the Data into Features and Target**\n"
      ],
      "metadata": {
        "id": "c-ihlfW2LJFT"
      }
    },
    {
      "cell_type": "code",
      "source": [
        "X = df.drop(columns=[\"Outcome\"])\n",
        "y = df[\"Outcome\"]"
      ],
      "metadata": {
        "id": "927Icno6KzSS"
      },
      "execution_count": 23,
      "outputs": []
    },
    {
      "cell_type": "markdown",
      "source": [
        "**7. Split the Data into Training and Testing Sets**"
      ],
      "metadata": {
        "id": "P80XuyHVLTdb"
      }
    },
    {
      "cell_type": "code",
      "source": [
        "from sklearn.model_selection import train_test_split\n",
        "\n",
        "# Split the data into training and testing sets\n",
        "X_train, X_test, y_train, y_test = train_test_split(X, y, test_size=0.2, random_state=42)"
      ],
      "metadata": {
        "id": "NBCqOTbZLWEa"
      },
      "execution_count": 10,
      "outputs": []
    },
    {
      "cell_type": "markdown",
      "source": [
        "**8. Standardize the Features**"
      ],
      "metadata": {
        "id": "cBJkZ7c1LbS-"
      }
    },
    {
      "cell_type": "code",
      "source": [
        "from sklearn.preprocessing import StandardScaler\n",
        "\n",
        "# Standardize the features\n",
        "scaler = StandardScaler()\n",
        "X_train_scaled = scaler.fit_transform(X_train)\n",
        "X_test_scaled = scaler.transform(X_test)"
      ],
      "metadata": {
        "id": "ELEhT5SzLdDw"
      },
      "execution_count": 24,
      "outputs": []
    },
    {
      "cell_type": "markdown",
      "source": [
        "**9. Train and Evaluate Models**"
      ],
      "metadata": {
        "id": "1B4ltys8Lnnu"
      }
    },
    {
      "cell_type": "code",
      "source": [
        "import pandas as pd\n",
        "import matplotlib.pyplot as plt\n",
        "from sklearn.model_selection import GridSearchCV\n",
        "from sklearn.neighbors import KNeighborsClassifier\n",
        "from sklearn.linear_model import LogisticRegression\n",
        "from sklearn.tree import DecisionTreeClassifier\n",
        "from sklearn.ensemble import RandomForestClassifier\n",
        "from sklearn.metrics import accuracy_score, f1_score, classification_report\n",
        "\n",
        "def perform_grid_search(X_train_scaled, X_test_scaled, y_train, y_test):\n",
        "    # Define the parameter grids for each model\n",
        "    param_grid_lr = {'C': [0.001, 0.01, 0.1, 1, 10, 100]}\n",
        "    param_grid_dt = {'max_depth': [None, 5, 10, 15, 20]}\n",
        "    param_grid_rf = {'n_estimators': [50, 100, 150, 200], 'max_depth': [None, 5, 10, 15, 20]}\n",
        "    param_grid_knn = {'n_neighbors': [3, 5, 7, 9, 11]}\n",
        "\n",
        "    # Define models\n",
        "    models = {\n",
        "        \"Logistic Regression\": LogisticRegression(),\n",
        "        \"Decision Tree\": DecisionTreeClassifier(),\n",
        "        \"Random Forest\": RandomForestClassifier(),\n",
        "        \"K-Nearest Neighbors\": KNeighborsClassifier()\n",
        "    }\n",
        "\n",
        "    # Define parameter grids\n",
        "    param_grids = {\n",
        "        \"Logistic Regression\": param_grid_lr,\n",
        "        \"Decision Tree\": param_grid_dt,\n",
        "        \"Random Forest\": param_grid_rf,\n",
        "        \"K-Nearest Neighbors\": param_grid_knn\n",
        "    }\n",
        "\n",
        "    # Perform grid search and store results\n",
        "    results = {}\n",
        "    for name, model in models.items():\n",
        "        param_grid = param_grids[name]\n",
        "        grid_search = GridSearchCV(model, param_grid, cv=5, scoring='accuracy', n_jobs=-1)\n",
        "        grid_search.fit(X_train_scaled, y_train)\n",
        "        y_pred = grid_search.predict(X_test_scaled)\n",
        "        accuracy = accuracy_score(y_test, y_pred)\n",
        "        f1 = f1_score(y_test, y_pred)\n",
        "        report = classification_report(y_test, y_pred, output_dict=True)\n",
        "        results[name] = {\n",
        "            \"best_params\": grid_search.best_params_,\n",
        "            \"best_score\": grid_search.best_score_,\n",
        "            \"test_accuracy\": accuracy,\n",
        "            \"test_f1_score\": f1,\n",
        "            \"classification_report\": report\n",
        "        }\n",
        "\n",
        "    return results\n",
        "\n",
        "def print_prediction_table(results):\n",
        "    print(\"{:<20} {:<15} {:<15} {:<15} {:<15}\".format(\"Model\", \"Accuracy\", \"F1 Score\", \"Precision\", \"Recall\"))\n",
        "    print(\"-\" * 75)\n",
        "    for name, result in results.items():\n",
        "        accuracy = result[\"test_accuracy\"]\n",
        "        f1 = result[\"test_f1_score\"]\n",
        "        precision = result[\"classification_report\"][\"weighted avg\"][\"precision\"]\n",
        "        recall = result[\"classification_report\"][\"weighted avg\"][\"recall\"]\n",
        "        print(\"{:<20} {:<15.4f} {:<15.4f} {:<15.4f} {:<15.4f}\".format(name, accuracy, f1, precision, recall))\n",
        "\n",
        "# Usage example\n",
        "results = perform_grid_search(X_train_scaled, X_test_scaled, y_train, y_test)\n",
        "print_prediction_table(results)\n"
      ],
      "metadata": {
        "id": "XOzks9YdLnP9",
        "colab": {
          "base_uri": "https://localhost:8080/"
        },
        "outputId": "47207166-2194-4f75-d906-84846bcd1140"
      },
      "execution_count": 28,
      "outputs": [
        {
          "output_type": "stream",
          "name": "stdout",
          "text": [
            "Model                Accuracy        F1 Score        Precision       Recall         \n",
            "---------------------------------------------------------------------------\n",
            "Logistic Regression  0.7532          0.6607          0.7554          0.7532         \n",
            "Decision Tree        0.7922          0.6863          0.7887          0.7922         \n",
            "Random Forest        0.7468          0.6486          0.7478          0.7468         \n",
            "K-Nearest Neighbors  0.7078          0.5794          0.7045          0.7078         \n"
          ]
        }
      ]
    },
    {
      "cell_type": "code",
      "source": [
        "def plot_best_model_accuracy(results):\n",
        "    # Find the best model based on accuracy\n",
        "    best_model = max(results, key=lambda x: results[x][\"test_accuracy\"])\n",
        "    best_accuracy = results[best_model][\"test_accuracy\"]\n",
        "\n",
        "    # Plot accuracy for each model\n",
        "    model_names = list(results.keys())\n",
        "    test_accuracies = [results[name][\"test_accuracy\"] for name in model_names]\n",
        "\n",
        "    plt.figure(figsize=(10, 6))\n",
        "    plt.bar(model_names, test_accuracies, color='skyblue')\n",
        "    plt.title('Accuracy of Different Models')\n",
        "    plt.xlabel('Model')\n",
        "    plt.ylabel('Accuracy')\n",
        "    plt.ylim(0, 1)\n",
        "    plt.xticks(rotation=45)\n",
        "\n",
        "    # Highlight the best model\n",
        "    plt.axhline(y=best_accuracy, color='red', linestyle='--')\n",
        "    plt.text(len(model_names) - 1, best_accuracy + 0.01, f'Best Model: {best_model}', horizontalalignment='right', color='red')\n",
        "\n",
        "    plt.show()\n",
        "plot_best_model_accuracy(results)\n"
      ],
      "metadata": {
        "colab": {
          "base_uri": "https://localhost:8080/",
          "height": 660
        },
        "id": "9L590uVLZt6W",
        "outputId": "911fc905-e1db-4728-f118-c241af1764b2"
      },
      "execution_count": 29,
      "outputs": [
        {
          "output_type": "display_data",
          "data": {
            "text/plain": [
              "<Figure size 1000x600 with 1 Axes>"
            ],
            "image/png": "[encoded data removed]"
          },
          "metadata": {}
        }
      ]
    }
  ]
}